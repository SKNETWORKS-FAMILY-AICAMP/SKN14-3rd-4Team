{
 "cells": [
  {
   "cell_type": "code",
   "execution_count": 1,
   "metadata": {
    "colab": {
     "base_uri": "https://localhost:8080/"
    },
    "collapsed": true,
    "executionInfo": {
     "elapsed": 17513,
     "status": "ok",
     "timestamp": 1752539411152,
     "user": {
      "displayName": "sr c",
      "userId": "02365314278665536029"
     },
     "user_tz": -540
    },
    "id": "AgUi4z1DJfdu",
    "outputId": "6adcaec3-17b4-4771-9d73-3e96efaf4932"
   },
   "outputs": [
    {
     "name": "stdout",
     "output_type": "stream",
     "text": [
      "Note: you may need to restart the kernel to use updated packages.\n"
     ]
    }
   ],
   "source": [
    "%pip install langchain-community langchain-pinecone langchain-openai pinecone python-dotenv -q"
   ]
  },
  {
   "cell_type": "code",
   "execution_count": null,
   "metadata": {
    "executionInfo": {
     "elapsed": 3051,
     "status": "ok",
     "timestamp": 1752539641672,
     "user": {
      "displayName": "sr c",
      "userId": "02365314278665536029"
     },
     "user_tz": -540
    },
    "id": "ixGKKWUrfB2G"
   },
   "outputs": [],
   "source": [
    "# 구글 코랩용 코드\n",
    "# from google.colab import userdata\n",
    "# import os\n",
    "\n",
    "\n",
    "# os.environ['LANGSMITH_TRACING'] = userdata.get('LANGSMITH_TRACING')\n",
    "# os.environ['LANGSMITH_ENDPOINT'] = userdata.get('LANGSMITH_ENDPOINT')\n",
    "# os.environ['LANGSMITH_API_KEY'] = userdata.get('LANGSMITH_API_KEY')\n",
    "# os.environ['LANGSMITH_PROJECT'] = userdata.get('LANGSMITH_PROJECT')\n",
    "# os.environ['OPENAI_API_KEY'] = userdata.get('OPENAI_API_KEY')\n",
    "# os.environ['PINECONE_API_KEY'] = userdata.get('PINECONE_API_KEY')"
   ]
  },
  {
   "cell_type": "code",
   "execution_count": null,
   "metadata": {},
   "outputs": [],
   "source": [
    "from dotenv import load_dotenv\n",
    "\n",
    "load_dotenv() #.env 파일에서 변수=값을 os환경변수로 자동등록"
   ]
  },
  {
   "cell_type": "code",
   "execution_count": 2,
   "metadata": {
    "executionInfo": {
     "elapsed": 63,
     "status": "ok",
     "timestamp": 1752548918935,
     "user": {
      "displayName": "sr c",
      "userId": "02365314278665536029"
     },
     "user_tz": -540
    },
    "id": "jSpNny96f21w"
   },
   "outputs": [],
   "source": [
    "# 데이터 로드\n",
    "import json\n",
    "\n",
    "with open('foodDB.json', 'r') as f:\n",
    "    food_df = json.load(f)"
   ]
  },
  {
   "cell_type": "code",
   "execution_count": null,
   "metadata": {
    "colab": {
     "base_uri": "https://localhost:8080/",
     "height": 206
    },
    "executionInfo": {
     "elapsed": 102,
     "status": "ok",
     "timestamp": 1752548919434,
     "user": {
      "displayName": "sr c",
      "userId": "02365314278665536029"
     },
     "user_tz": -540
    },
    "id": "SbQpo90kNt7o",
    "outputId": "5dcb392c-e140-43fe-f8cd-79114becdbaa"
   },
   "outputs": [
    {
     "data": {
      "text/html": [
       "<div>\n",
       "<style scoped>\n",
       "    .dataframe tbody tr th:only-of-type {\n",
       "        vertical-align: middle;\n",
       "    }\n",
       "\n",
       "    .dataframe tbody tr th {\n",
       "        vertical-align: top;\n",
       "    }\n",
       "\n",
       "    .dataframe thead th {\n",
       "        text-align: right;\n",
       "    }\n",
       "</style>\n",
       "<table border=\"1\" class=\"dataframe\">\n",
       "  <thead>\n",
       "    <tr style=\"text-align: right;\">\n",
       "      <th></th>\n",
       "      <th>RCP_NM</th>\n",
       "      <th>RCP_PARTS_DTLS</th>\n",
       "      <th>INFO_ENG</th>\n",
       "    </tr>\n",
       "  </thead>\n",
       "  <tbody>\n",
       "    <tr>\n",
       "      <th>0</th>\n",
       "      <td>새우 두부 계란찜</td>\n",
       "      <td>새우두부계란찜\\n연두부 75g(3/4모), 칵테일새우 20g(5마리), 달걀 30g...</td>\n",
       "      <td>220</td>\n",
       "    </tr>\n",
       "    <tr>\n",
       "      <th>1</th>\n",
       "      <td>부추 콩가루 찜</td>\n",
       "      <td>[1인분]조선부추 50g, 날콩가루 7g(1⅓작은술)\\n·양념장 : 저염간장 3g(...</td>\n",
       "      <td>215</td>\n",
       "    </tr>\n",
       "    <tr>\n",
       "      <th>2</th>\n",
       "      <td>방울토마토 소박이</td>\n",
       "      <td>●방울토마토 소박이 : \\n방울토마토 150g(5개), 양파 10g(3×1cm), ...</td>\n",
       "      <td>45</td>\n",
       "    </tr>\n",
       "    <tr>\n",
       "      <th>3</th>\n",
       "      <td>순두부 사과 소스 오이무침</td>\n",
       "      <td>●오이무침 :\\n오이 70g(1/3개), 다진 땅콩 10g(1큰술)\\n●순두부사과 ...</td>\n",
       "      <td>75</td>\n",
       "    </tr>\n",
       "    <tr>\n",
       "      <th>4</th>\n",
       "      <td>사과 새우 북엇국</td>\n",
       "      <td>북엇국\\n북어채 25g(15개), 새우 10g(3마리), 사과 30g(1/5개), ...</td>\n",
       "      <td>65</td>\n",
       "    </tr>\n",
       "  </tbody>\n",
       "</table>\n",
       "</div>"
      ],
      "text/plain": [
       "           RCP_NM                                     RCP_PARTS_DTLS INFO_ENG\n",
       "0       새우 두부 계란찜  새우두부계란찜\\n연두부 75g(3/4모), 칵테일새우 20g(5마리), 달걀 30g...      220\n",
       "1        부추 콩가루 찜  [1인분]조선부추 50g, 날콩가루 7g(1⅓작은술)\\n·양념장 : 저염간장 3g(...      215\n",
       "2       방울토마토 소박이  ●방울토마토 소박이 : \\n방울토마토 150g(5개), 양파 10g(3×1cm), ...       45\n",
       "3  순두부 사과 소스 오이무침  ●오이무침 :\\n오이 70g(1/3개), 다진 땅콩 10g(1큰술)\\n●순두부사과 ...       75\n",
       "4       사과 새우 북엇국  북엇국\\n북어채 25g(15개), 새우 10g(3마리), 사과 30g(1/5개), ...       65"
      ]
     },
     "execution_count": 3,
     "metadata": {},
     "output_type": "execute_result"
    }
   ],
   "source": [
    "import pandas as pd\n",
    "\n",
    "df = pd.DataFrame(food_df['COOKRCP01']['row'])\n",
    "df = df[['RCP_NM', 'RCP_PARTS_DTLS','INFO_ENG']]\n",
    "\n",
    "df.head()"
   ]
  },
  {
   "cell_type": "code",
   "execution_count": 35,
   "metadata": {
    "executionInfo": {
     "elapsed": 171901,
     "status": "ok",
     "timestamp": 1752549092026,
     "user": {
      "displayName": "sr c",
      "userId": "02365314278665536029"
     },
     "user_tz": -540
    },
    "id": "GwW3j8BjRd3c"
   },
   "outputs": [],
   "source": [
    "from langchain_openai import OpenAIEmbeddings\n",
    "from langchain_pinecone import PineconeVectorStore\n",
    "\n",
    "# 임베딩할 텍스트(각각 page_content) 생성 - 메뉴이름, 재료\n",
    "texts = (df['RCP_NM'] + \" / \" + df['RCP_PARTS_DTLS']).tolist()\n",
    "\n",
    "# 메타데이터 생성 - 메뉴이름, 칼로리\n",
    "metadatas = df[['RCP_NM','INFO_ENG']].to_dict(orient='records')\n",
    "\n",
    "# OpenAI 임베딩 객체 생성\n",
    "embeddings = OpenAIEmbeddings(model=\"text-embedding-3-small\")\n",
    "\n",
    "# Pinecone 인덱스명 지정\n",
    "index_name = \"food-index\"\n",
    "\n",
    "batch_size = 10\n",
    "max_length = 1000  # 필요시 더 짧게 조정\n",
    "\n",
    "# 텍스트 길이 제한 적용\n",
    "texts_limited = [t[:max_length] if len(t) > max_length else t for t in texts]\n",
    "\n",
    "for i in range(0, len(texts_limited), batch_size):\n",
    "    batch_texts = texts_limited[i:i+batch_size]\n",
    "    batch_metadatas = metadatas[i:i+batch_size]\n",
    "    PineconeVectorStore.from_texts(\n",
    "        texts=batch_texts,\n",
    "        embedding=embeddings,\n",
    "        metadatas=batch_metadatas,\n",
    "        index_name=index_name\n",
    "    )"
   ]
  },
  {
   "cell_type": "code",
   "execution_count": 37,
   "metadata": {
    "collapsed": true,
    "executionInfo": {
     "elapsed": 3948,
     "status": "ok",
     "timestamp": 1752549189905,
     "user": {
      "displayName": "sr c",
      "userId": "02365314278665536029"
     },
     "user_tz": -540
    },
    "id": "ZaQAWEvTdAuH"
   },
   "outputs": [],
   "source": [
    "# texts를 벡터화 - 이미지 업로드후 임베딩값과 비교시 사용\n",
    "text_vectors = embeddings.embed_documents(texts)"
   ]
  },
  {
   "cell_type": "markdown",
   "metadata": {
    "id": "aS3ATk5N7Kwk"
   },
   "source": [
    "1. 이미지 임베딩(벡터화)\n",
    "- 사용자가 이미지를 업로드하면, 해당 이미지를 이미지 임베딩 모델(CLIP, BLIP)로 벡터값으로 변환. streamlit에서 받은 이미지를 벡터화하는 코드 필요.\n",
    "\n",
    "2. 위에서 얻은 image_vector를 Pinecone에 쿼리하여, 텍스트 임베딩(레시피 등)과 가장 유사한 결과를 검색.\n",
    "```results = pinecone_index.query(\n",
    "    vector=image_vector.tolist(),\n",
    "    top_k=?,\n",
    "    include_metadata=True\n",
    ")```\n",
    "\n",
    "3. 출력된 결과를 기반으로 llm에 질의 및 응답(과정을 반복하며 식단관리 및 운동을 추천)"
   ]
  }
 ],
 "metadata": {
  "colab": {
   "authorship_tag": "ABX9TyMTBfl1NAjSKqw4y0m7aSqc",
   "provenance": []
  },
  "kernelspec": {
   "display_name": "deep_learning_nlp_env",
   "language": "python",
   "name": "python3"
  },
  "language_info": {
   "codemirror_mode": {
    "name": "ipython",
    "version": 3
   },
   "file_extension": ".py",
   "mimetype": "text/x-python",
   "name": "python",
   "nbconvert_exporter": "python",
   "pygments_lexer": "ipython3",
   "version": "3.12.11"
  }
 },
 "nbformat": 4,
 "nbformat_minor": 0
}
